{
 "cells": [
  {
   "cell_type": "code",
   "id": "initial_id",
   "metadata": {
    "collapsed": true,
    "ExecuteTime": {
     "end_time": "2024-06-04T18:42:12.346345Z",
     "start_time": "2024-06-04T18:42:10.092589Z"
    }
   },
   "source": [
    "import numpy as np\n",
    "import pandas as pd\n",
    "from pathlib import Path\n",
    "import os.path\n",
    "import matplotlib.pyplot as plt\n",
    "from sklearn.model_selection import train_test_split\n",
    "import tensorflow as tf\n",
    "# from tensorflow.keras.callbacks import ReduceLROnPlateau,EarlyStopping,ModelCheckpoint"
   ],
   "outputs": [],
   "execution_count": 2
  },
  {
   "metadata": {
    "ExecuteTime": {
     "end_time": "2024-06-04T19:25:44.632154Z",
     "start_time": "2024-06-04T19:25:44.355875Z"
    }
   },
   "cell_type": "code",
   "source": [
    "BASE_DIR = r'C:/Users/grish/Downloads/archive/Fish_Dataset/Fish_Dataset'\n",
    "classes = [i for i in os.listdir(BASE_DIR) if '.' not in i]\n",
    "classes\n",
    "\n",
    "image_dir = Path(r'C:/Users/grish/Downloads/archive/Fish_Dataset/Fish_Dataset')\n",
    "\n",
    "# Получение путей к файлам и меток\n",
    "filepaths = list(image_dir.glob(r'**/*.png'))\n",
    "labels = list(map(lambda x: os.path.split(os.path.split(x)[0])[1], filepaths))"
   ],
   "id": "d3b44ebc84341f72",
   "outputs": [],
   "execution_count": 30
  },
  {
   "metadata": {
    "ExecuteTime": {
     "end_time": "2024-06-04T18:42:15.954790Z",
     "start_time": "2024-06-04T18:42:15.905082Z"
    }
   },
   "cell_type": "code",
   "source": [
    "image_paths = []\n",
    "image_paths_gt = []\n",
    "image_classes = np.array([[cls]*1000 for cls in classes]).reshape(-1)\n",
    "for cls in classes:\n",
    "    gt = cls + ' GT'\n",
    "    image_paths.extend([os.path.join(BASE_DIR, cls,cls, i) for i in os.listdir(os.path.join(BASE_DIR, cls,cls))])\n",
    "    image_paths_gt.extend([os.path.join(BASE_DIR, cls,gt, i) for i in os.listdir(os.path.join(BASE_DIR, cls, gt))])"
   ],
   "id": "94dc2e5328cfa5b6",
   "outputs": [],
   "execution_count": 4
  },
  {
   "metadata": {
    "ExecuteTime": {
     "end_time": "2024-06-04T18:42:17.527002Z",
     "start_time": "2024-06-04T18:42:17.524843Z"
    }
   },
   "cell_type": "code",
   "source": "img_shape = (590 , 445, 3)",
   "id": "2302767360c7bfc0",
   "outputs": [],
   "execution_count": 5
  },
  {
   "metadata": {
    "ExecuteTime": {
     "end_time": "2024-06-04T18:42:18.523745Z",
     "start_time": "2024-06-04T18:42:18.514734Z"
    }
   },
   "cell_type": "code",
   "source": [
    "data = pd.DataFrame({'path':image_paths, 'class':image_classes, })\n",
    "data.head()"
   ],
   "id": "160d34f12e24fbc8",
   "outputs": [
    {
     "data": {
      "text/plain": [
       "                                                path            class\n",
       "0  C:/Users/grish/Downloads/archive/Fish_Dataset/...  Black Sea Sprat\n",
       "1  C:/Users/grish/Downloads/archive/Fish_Dataset/...  Black Sea Sprat\n",
       "2  C:/Users/grish/Downloads/archive/Fish_Dataset/...  Black Sea Sprat\n",
       "3  C:/Users/grish/Downloads/archive/Fish_Dataset/...  Black Sea Sprat\n",
       "4  C:/Users/grish/Downloads/archive/Fish_Dataset/...  Black Sea Sprat"
      ],
      "text/html": [
       "<div>\n",
       "<style scoped>\n",
       "    .dataframe tbody tr th:only-of-type {\n",
       "        vertical-align: middle;\n",
       "    }\n",
       "\n",
       "    .dataframe tbody tr th {\n",
       "        vertical-align: top;\n",
       "    }\n",
       "\n",
       "    .dataframe thead th {\n",
       "        text-align: right;\n",
       "    }\n",
       "</style>\n",
       "<table border=\"1\" class=\"dataframe\">\n",
       "  <thead>\n",
       "    <tr style=\"text-align: right;\">\n",
       "      <th></th>\n",
       "      <th>path</th>\n",
       "      <th>class</th>\n",
       "    </tr>\n",
       "  </thead>\n",
       "  <tbody>\n",
       "    <tr>\n",
       "      <th>0</th>\n",
       "      <td>C:/Users/grish/Downloads/archive/Fish_Dataset/...</td>\n",
       "      <td>Black Sea Sprat</td>\n",
       "    </tr>\n",
       "    <tr>\n",
       "      <th>1</th>\n",
       "      <td>C:/Users/grish/Downloads/archive/Fish_Dataset/...</td>\n",
       "      <td>Black Sea Sprat</td>\n",
       "    </tr>\n",
       "    <tr>\n",
       "      <th>2</th>\n",
       "      <td>C:/Users/grish/Downloads/archive/Fish_Dataset/...</td>\n",
       "      <td>Black Sea Sprat</td>\n",
       "    </tr>\n",
       "    <tr>\n",
       "      <th>3</th>\n",
       "      <td>C:/Users/grish/Downloads/archive/Fish_Dataset/...</td>\n",
       "      <td>Black Sea Sprat</td>\n",
       "    </tr>\n",
       "    <tr>\n",
       "      <th>4</th>\n",
       "      <td>C:/Users/grish/Downloads/archive/Fish_Dataset/...</td>\n",
       "      <td>Black Sea Sprat</td>\n",
       "    </tr>\n",
       "  </tbody>\n",
       "</table>\n",
       "</div>"
      ]
     },
     "execution_count": 6,
     "metadata": {},
     "output_type": "execute_result"
    }
   ],
   "execution_count": 6
  },
  {
   "metadata": {
    "ExecuteTime": {
     "end_time": "2024-06-04T18:42:20.312106Z",
     "start_time": "2024-06-04T18:42:20.304586Z"
    }
   },
   "cell_type": "code",
   "source": [
    "data_gt = pd.DataFrame({'path':image_paths_gt, 'class':image_classes, })\n",
    "data_gt.head()"
   ],
   "id": "7a982f74cb8362b5",
   "outputs": [
    {
     "data": {
      "text/plain": [
       "                                                path            class\n",
       "0  C:/Users/grish/Downloads/archive/Fish_Dataset/...  Black Sea Sprat\n",
       "1  C:/Users/grish/Downloads/archive/Fish_Dataset/...  Black Sea Sprat\n",
       "2  C:/Users/grish/Downloads/archive/Fish_Dataset/...  Black Sea Sprat\n",
       "3  C:/Users/grish/Downloads/archive/Fish_Dataset/...  Black Sea Sprat\n",
       "4  C:/Users/grish/Downloads/archive/Fish_Dataset/...  Black Sea Sprat"
      ],
      "text/html": [
       "<div>\n",
       "<style scoped>\n",
       "    .dataframe tbody tr th:only-of-type {\n",
       "        vertical-align: middle;\n",
       "    }\n",
       "\n",
       "    .dataframe tbody tr th {\n",
       "        vertical-align: top;\n",
       "    }\n",
       "\n",
       "    .dataframe thead th {\n",
       "        text-align: right;\n",
       "    }\n",
       "</style>\n",
       "<table border=\"1\" class=\"dataframe\">\n",
       "  <thead>\n",
       "    <tr style=\"text-align: right;\">\n",
       "      <th></th>\n",
       "      <th>path</th>\n",
       "      <th>class</th>\n",
       "    </tr>\n",
       "  </thead>\n",
       "  <tbody>\n",
       "    <tr>\n",
       "      <th>0</th>\n",
       "      <td>C:/Users/grish/Downloads/archive/Fish_Dataset/...</td>\n",
       "      <td>Black Sea Sprat</td>\n",
       "    </tr>\n",
       "    <tr>\n",
       "      <th>1</th>\n",
       "      <td>C:/Users/grish/Downloads/archive/Fish_Dataset/...</td>\n",
       "      <td>Black Sea Sprat</td>\n",
       "    </tr>\n",
       "    <tr>\n",
       "      <th>2</th>\n",
       "      <td>C:/Users/grish/Downloads/archive/Fish_Dataset/...</td>\n",
       "      <td>Black Sea Sprat</td>\n",
       "    </tr>\n",
       "    <tr>\n",
       "      <th>3</th>\n",
       "      <td>C:/Users/grish/Downloads/archive/Fish_Dataset/...</td>\n",
       "      <td>Black Sea Sprat</td>\n",
       "    </tr>\n",
       "    <tr>\n",
       "      <th>4</th>\n",
       "      <td>C:/Users/grish/Downloads/archive/Fish_Dataset/...</td>\n",
       "      <td>Black Sea Sprat</td>\n",
       "    </tr>\n",
       "  </tbody>\n",
       "</table>\n",
       "</div>"
      ]
     },
     "execution_count": 7,
     "metadata": {},
     "output_type": "execute_result"
    }
   ],
   "execution_count": 7
  },
  {
   "metadata": {
    "ExecuteTime": {
     "end_time": "2024-06-04T18:42:21.985105Z",
     "start_time": "2024-06-04T18:42:21.981096Z"
    }
   },
   "cell_type": "code",
   "source": "train_df, test_df = train_test_split(data, train_size=0.9, shuffle=True, random_state=1)",
   "id": "ee8ab5c08c6d7026",
   "outputs": [],
   "execution_count": 8
  },
  {
   "metadata": {
    "ExecuteTime": {
     "end_time": "2024-06-04T18:42:23.402804Z",
     "start_time": "2024-06-04T18:42:23.399121Z"
    }
   },
   "cell_type": "code",
   "source": [
    "def get_generators(data, is_rgb =True):\n",
    "    color_mode = 'rgb' if is_rgb else 'grayscale'\n",
    "    data_full, data_remainder = train_test_split(data, stratify = data['class'], test_size = 0.2)\n",
    "    train_datagen = tf.keras.preprocessing.image.ImageDataGenerator(rescale=1.0/255, validation_split=0.1)\n",
    "\n",
    "    test_datagen = tf.keras.preprocessing.image.ImageDataGenerator(rescale = 1.0/255)\n",
    "    train_generator = train_datagen.flow_from_dataframe(data_full, x_col='path', y_col='class',\n",
    "         target_size=img_shape[:-1], color_mode=color_mode,\n",
    "        class_mode='categorical', batch_size=32, shuffle=True,\n",
    "        subset='training'\n",
    "        )\n",
    "    val_generator = train_datagen.flow_from_dataframe(data_full, x_col='path', y_col='class',\n",
    "         target_size=img_shape[:-1], color_mode=color_mode,\n",
    "        class_mode='categorical', batch_size=32, shuffle=True,\n",
    "        subset='validation'\n",
    "        )\n",
    "    test_generator = test_datagen.flow_from_dataframe(data_remainder, x_col = 'path', y_col = 'class', target_size = img_shape[:-1], color_mode = color_mode,class_mode = 'categorical')\n",
    "    return train_generator, val_generator, test_generator"
   ],
   "id": "78d39b62b225f2f3",
   "outputs": [],
   "execution_count": 9
  },
  {
   "metadata": {
    "ExecuteTime": {
     "end_time": "2024-06-04T18:42:25.096136Z",
     "start_time": "2024-06-04T18:42:24.745387Z"
    }
   },
   "cell_type": "code",
   "source": "train_gen, val_gen, test_gen = get_generators(data)",
   "id": "98890a0f476d0b01",
   "outputs": [
    {
     "name": "stdout",
     "output_type": "stream",
     "text": [
      "Found 6480 validated image filenames belonging to 9 classes.\n",
      "Found 720 validated image filenames belonging to 9 classes.\n",
      "Found 1800 validated image filenames belonging to 9 classes.\n"
     ]
    }
   ],
   "execution_count": 10
  },
  {
   "metadata": {
    "ExecuteTime": {
     "end_time": "2024-06-04T18:42:26.367820Z",
     "start_time": "2024-06-04T18:42:26.286536Z"
    }
   },
   "cell_type": "code",
   "source": [
    "img_shape = (590 , 445, 3)\n",
    "model = tf.keras.Sequential([\n",
    "    tf.keras.layers.Conv2D(16,(3,3), strides = 3, input_shape = img_shape),\n",
    "    tf.keras.layers.MaxPooling2D(),\n",
    "    tf.keras.layers.Conv2D(32, (3,3),strides=2),\n",
    "    \n",
    "    tf.keras.layers.MaxPooling2D(),\n",
    "    tf.keras.layers.Conv2D(64, (3,3)),\n",
    "    tf.keras.layers.MaxPooling2D(),\n",
    "    tf.keras.layers.Conv2D(64,(3,3)),\n",
    "    tf.keras.layers.MaxPooling2D(),\n",
    "    tf.keras.layers.Flatten(),\n",
    "    tf.keras.layers.Dropout(0.5),\n",
    "    tf.keras.layers.Dense(256, activation = 'relu'),\n",
    "    tf.keras.layers.Dropout(0.5),\n",
    "    tf.keras.layers.Dense(9, activation = 'softmax')\n",
    "])\n",
    "model.summary()"
   ],
   "id": "cb6f7d445c4eddff",
   "outputs": [
    {
     "name": "stderr",
     "output_type": "stream",
     "text": [
      "C:\\Users\\grish\\PycharmProjects\\FishClassifier\\venv\\Lib\\site-packages\\keras\\src\\layers\\convolutional\\base_conv.py:107: UserWarning: Do not pass an `input_shape`/`input_dim` argument to a layer. When using Sequential models, prefer using an `Input(shape)` object as the first layer in the model instead.\n",
      "  super().__init__(activity_regularizer=activity_regularizer, **kwargs)\n"
     ]
    },
    {
     "data": {
      "text/plain": [
       "\u001B[1mModel: \"sequential\"\u001B[0m\n"
      ],
      "text/html": [
       "<pre style=\"white-space:pre;overflow-x:auto;line-height:normal;font-family:Menlo,'DejaVu Sans Mono',consolas,'Courier New',monospace\"><span style=\"font-weight: bold\">Model: \"sequential\"</span>\n",
       "</pre>\n"
      ]
     },
     "metadata": {},
     "output_type": "display_data"
    },
    {
     "data": {
      "text/plain": [
       "┏━━━━━━━━━━━━━━━━━━━━━━━━━━━━━━━━━┳━━━━━━━━━━━━━━━━━━━━━━━━┳━━━━━━━━━━━━━━━┓\n",
       "┃\u001B[1m \u001B[0m\u001B[1mLayer (type)                   \u001B[0m\u001B[1m \u001B[0m┃\u001B[1m \u001B[0m\u001B[1mOutput Shape          \u001B[0m\u001B[1m \u001B[0m┃\u001B[1m \u001B[0m\u001B[1m      Param #\u001B[0m\u001B[1m \u001B[0m┃\n",
       "┡━━━━━━━━━━━━━━━━━━━━━━━━━━━━━━━━━╇━━━━━━━━━━━━━━━━━━━━━━━━╇━━━━━━━━━━━━━━━┩\n",
       "│ conv2d (\u001B[38;5;33mConv2D\u001B[0m)                 │ (\u001B[38;5;45mNone\u001B[0m, \u001B[38;5;34m196\u001B[0m, \u001B[38;5;34m148\u001B[0m, \u001B[38;5;34m16\u001B[0m)   │           \u001B[38;5;34m448\u001B[0m │\n",
       "├─────────────────────────────────┼────────────────────────┼───────────────┤\n",
       "│ max_pooling2d (\u001B[38;5;33mMaxPooling2D\u001B[0m)    │ (\u001B[38;5;45mNone\u001B[0m, \u001B[38;5;34m98\u001B[0m, \u001B[38;5;34m74\u001B[0m, \u001B[38;5;34m16\u001B[0m)     │             \u001B[38;5;34m0\u001B[0m │\n",
       "├─────────────────────────────────┼────────────────────────┼───────────────┤\n",
       "│ conv2d_1 (\u001B[38;5;33mConv2D\u001B[0m)               │ (\u001B[38;5;45mNone\u001B[0m, \u001B[38;5;34m48\u001B[0m, \u001B[38;5;34m36\u001B[0m, \u001B[38;5;34m32\u001B[0m)     │         \u001B[38;5;34m4,640\u001B[0m │\n",
       "├─────────────────────────────────┼────────────────────────┼───────────────┤\n",
       "│ max_pooling2d_1 (\u001B[38;5;33mMaxPooling2D\u001B[0m)  │ (\u001B[38;5;45mNone\u001B[0m, \u001B[38;5;34m24\u001B[0m, \u001B[38;5;34m18\u001B[0m, \u001B[38;5;34m32\u001B[0m)     │             \u001B[38;5;34m0\u001B[0m │\n",
       "├─────────────────────────────────┼────────────────────────┼───────────────┤\n",
       "│ conv2d_2 (\u001B[38;5;33mConv2D\u001B[0m)               │ (\u001B[38;5;45mNone\u001B[0m, \u001B[38;5;34m22\u001B[0m, \u001B[38;5;34m16\u001B[0m, \u001B[38;5;34m64\u001B[0m)     │        \u001B[38;5;34m18,496\u001B[0m │\n",
       "├─────────────────────────────────┼────────────────────────┼───────────────┤\n",
       "│ max_pooling2d_2 (\u001B[38;5;33mMaxPooling2D\u001B[0m)  │ (\u001B[38;5;45mNone\u001B[0m, \u001B[38;5;34m11\u001B[0m, \u001B[38;5;34m8\u001B[0m, \u001B[38;5;34m64\u001B[0m)      │             \u001B[38;5;34m0\u001B[0m │\n",
       "├─────────────────────────────────┼────────────────────────┼───────────────┤\n",
       "│ conv2d_3 (\u001B[38;5;33mConv2D\u001B[0m)               │ (\u001B[38;5;45mNone\u001B[0m, \u001B[38;5;34m9\u001B[0m, \u001B[38;5;34m6\u001B[0m, \u001B[38;5;34m64\u001B[0m)       │        \u001B[38;5;34m36,928\u001B[0m │\n",
       "├─────────────────────────────────┼────────────────────────┼───────────────┤\n",
       "│ max_pooling2d_3 (\u001B[38;5;33mMaxPooling2D\u001B[0m)  │ (\u001B[38;5;45mNone\u001B[0m, \u001B[38;5;34m4\u001B[0m, \u001B[38;5;34m3\u001B[0m, \u001B[38;5;34m64\u001B[0m)       │             \u001B[38;5;34m0\u001B[0m │\n",
       "├─────────────────────────────────┼────────────────────────┼───────────────┤\n",
       "│ flatten (\u001B[38;5;33mFlatten\u001B[0m)               │ (\u001B[38;5;45mNone\u001B[0m, \u001B[38;5;34m768\u001B[0m)            │             \u001B[38;5;34m0\u001B[0m │\n",
       "├─────────────────────────────────┼────────────────────────┼───────────────┤\n",
       "│ dropout (\u001B[38;5;33mDropout\u001B[0m)               │ (\u001B[38;5;45mNone\u001B[0m, \u001B[38;5;34m768\u001B[0m)            │             \u001B[38;5;34m0\u001B[0m │\n",
       "├─────────────────────────────────┼────────────────────────┼───────────────┤\n",
       "│ dense (\u001B[38;5;33mDense\u001B[0m)                   │ (\u001B[38;5;45mNone\u001B[0m, \u001B[38;5;34m256\u001B[0m)            │       \u001B[38;5;34m196,864\u001B[0m │\n",
       "├─────────────────────────────────┼────────────────────────┼───────────────┤\n",
       "│ dropout_1 (\u001B[38;5;33mDropout\u001B[0m)             │ (\u001B[38;5;45mNone\u001B[0m, \u001B[38;5;34m256\u001B[0m)            │             \u001B[38;5;34m0\u001B[0m │\n",
       "├─────────────────────────────────┼────────────────────────┼───────────────┤\n",
       "│ dense_1 (\u001B[38;5;33mDense\u001B[0m)                 │ (\u001B[38;5;45mNone\u001B[0m, \u001B[38;5;34m9\u001B[0m)              │         \u001B[38;5;34m2,313\u001B[0m │\n",
       "└─────────────────────────────────┴────────────────────────┴───────────────┘\n"
      ],
      "text/html": [
       "<pre style=\"white-space:pre;overflow-x:auto;line-height:normal;font-family:Menlo,'DejaVu Sans Mono',consolas,'Courier New',monospace\">┏━━━━━━━━━━━━━━━━━━━━━━━━━━━━━━━━━┳━━━━━━━━━━━━━━━━━━━━━━━━┳━━━━━━━━━━━━━━━┓\n",
       "┃<span style=\"font-weight: bold\"> Layer (type)                    </span>┃<span style=\"font-weight: bold\"> Output Shape           </span>┃<span style=\"font-weight: bold\">       Param # </span>┃\n",
       "┡━━━━━━━━━━━━━━━━━━━━━━━━━━━━━━━━━╇━━━━━━━━━━━━━━━━━━━━━━━━╇━━━━━━━━━━━━━━━┩\n",
       "│ conv2d (<span style=\"color: #0087ff; text-decoration-color: #0087ff\">Conv2D</span>)                 │ (<span style=\"color: #00d7ff; text-decoration-color: #00d7ff\">None</span>, <span style=\"color: #00af00; text-decoration-color: #00af00\">196</span>, <span style=\"color: #00af00; text-decoration-color: #00af00\">148</span>, <span style=\"color: #00af00; text-decoration-color: #00af00\">16</span>)   │           <span style=\"color: #00af00; text-decoration-color: #00af00\">448</span> │\n",
       "├─────────────────────────────────┼────────────────────────┼───────────────┤\n",
       "│ max_pooling2d (<span style=\"color: #0087ff; text-decoration-color: #0087ff\">MaxPooling2D</span>)    │ (<span style=\"color: #00d7ff; text-decoration-color: #00d7ff\">None</span>, <span style=\"color: #00af00; text-decoration-color: #00af00\">98</span>, <span style=\"color: #00af00; text-decoration-color: #00af00\">74</span>, <span style=\"color: #00af00; text-decoration-color: #00af00\">16</span>)     │             <span style=\"color: #00af00; text-decoration-color: #00af00\">0</span> │\n",
       "├─────────────────────────────────┼────────────────────────┼───────────────┤\n",
       "│ conv2d_1 (<span style=\"color: #0087ff; text-decoration-color: #0087ff\">Conv2D</span>)               │ (<span style=\"color: #00d7ff; text-decoration-color: #00d7ff\">None</span>, <span style=\"color: #00af00; text-decoration-color: #00af00\">48</span>, <span style=\"color: #00af00; text-decoration-color: #00af00\">36</span>, <span style=\"color: #00af00; text-decoration-color: #00af00\">32</span>)     │         <span style=\"color: #00af00; text-decoration-color: #00af00\">4,640</span> │\n",
       "├─────────────────────────────────┼────────────────────────┼───────────────┤\n",
       "│ max_pooling2d_1 (<span style=\"color: #0087ff; text-decoration-color: #0087ff\">MaxPooling2D</span>)  │ (<span style=\"color: #00d7ff; text-decoration-color: #00d7ff\">None</span>, <span style=\"color: #00af00; text-decoration-color: #00af00\">24</span>, <span style=\"color: #00af00; text-decoration-color: #00af00\">18</span>, <span style=\"color: #00af00; text-decoration-color: #00af00\">32</span>)     │             <span style=\"color: #00af00; text-decoration-color: #00af00\">0</span> │\n",
       "├─────────────────────────────────┼────────────────────────┼───────────────┤\n",
       "│ conv2d_2 (<span style=\"color: #0087ff; text-decoration-color: #0087ff\">Conv2D</span>)               │ (<span style=\"color: #00d7ff; text-decoration-color: #00d7ff\">None</span>, <span style=\"color: #00af00; text-decoration-color: #00af00\">22</span>, <span style=\"color: #00af00; text-decoration-color: #00af00\">16</span>, <span style=\"color: #00af00; text-decoration-color: #00af00\">64</span>)     │        <span style=\"color: #00af00; text-decoration-color: #00af00\">18,496</span> │\n",
       "├─────────────────────────────────┼────────────────────────┼───────────────┤\n",
       "│ max_pooling2d_2 (<span style=\"color: #0087ff; text-decoration-color: #0087ff\">MaxPooling2D</span>)  │ (<span style=\"color: #00d7ff; text-decoration-color: #00d7ff\">None</span>, <span style=\"color: #00af00; text-decoration-color: #00af00\">11</span>, <span style=\"color: #00af00; text-decoration-color: #00af00\">8</span>, <span style=\"color: #00af00; text-decoration-color: #00af00\">64</span>)      │             <span style=\"color: #00af00; text-decoration-color: #00af00\">0</span> │\n",
       "├─────────────────────────────────┼────────────────────────┼───────────────┤\n",
       "│ conv2d_3 (<span style=\"color: #0087ff; text-decoration-color: #0087ff\">Conv2D</span>)               │ (<span style=\"color: #00d7ff; text-decoration-color: #00d7ff\">None</span>, <span style=\"color: #00af00; text-decoration-color: #00af00\">9</span>, <span style=\"color: #00af00; text-decoration-color: #00af00\">6</span>, <span style=\"color: #00af00; text-decoration-color: #00af00\">64</span>)       │        <span style=\"color: #00af00; text-decoration-color: #00af00\">36,928</span> │\n",
       "├─────────────────────────────────┼────────────────────────┼───────────────┤\n",
       "│ max_pooling2d_3 (<span style=\"color: #0087ff; text-decoration-color: #0087ff\">MaxPooling2D</span>)  │ (<span style=\"color: #00d7ff; text-decoration-color: #00d7ff\">None</span>, <span style=\"color: #00af00; text-decoration-color: #00af00\">4</span>, <span style=\"color: #00af00; text-decoration-color: #00af00\">3</span>, <span style=\"color: #00af00; text-decoration-color: #00af00\">64</span>)       │             <span style=\"color: #00af00; text-decoration-color: #00af00\">0</span> │\n",
       "├─────────────────────────────────┼────────────────────────┼───────────────┤\n",
       "│ flatten (<span style=\"color: #0087ff; text-decoration-color: #0087ff\">Flatten</span>)               │ (<span style=\"color: #00d7ff; text-decoration-color: #00d7ff\">None</span>, <span style=\"color: #00af00; text-decoration-color: #00af00\">768</span>)            │             <span style=\"color: #00af00; text-decoration-color: #00af00\">0</span> │\n",
       "├─────────────────────────────────┼────────────────────────┼───────────────┤\n",
       "│ dropout (<span style=\"color: #0087ff; text-decoration-color: #0087ff\">Dropout</span>)               │ (<span style=\"color: #00d7ff; text-decoration-color: #00d7ff\">None</span>, <span style=\"color: #00af00; text-decoration-color: #00af00\">768</span>)            │             <span style=\"color: #00af00; text-decoration-color: #00af00\">0</span> │\n",
       "├─────────────────────────────────┼────────────────────────┼───────────────┤\n",
       "│ dense (<span style=\"color: #0087ff; text-decoration-color: #0087ff\">Dense</span>)                   │ (<span style=\"color: #00d7ff; text-decoration-color: #00d7ff\">None</span>, <span style=\"color: #00af00; text-decoration-color: #00af00\">256</span>)            │       <span style=\"color: #00af00; text-decoration-color: #00af00\">196,864</span> │\n",
       "├─────────────────────────────────┼────────────────────────┼───────────────┤\n",
       "│ dropout_1 (<span style=\"color: #0087ff; text-decoration-color: #0087ff\">Dropout</span>)             │ (<span style=\"color: #00d7ff; text-decoration-color: #00d7ff\">None</span>, <span style=\"color: #00af00; text-decoration-color: #00af00\">256</span>)            │             <span style=\"color: #00af00; text-decoration-color: #00af00\">0</span> │\n",
       "├─────────────────────────────────┼────────────────────────┼───────────────┤\n",
       "│ dense_1 (<span style=\"color: #0087ff; text-decoration-color: #0087ff\">Dense</span>)                 │ (<span style=\"color: #00d7ff; text-decoration-color: #00d7ff\">None</span>, <span style=\"color: #00af00; text-decoration-color: #00af00\">9</span>)              │         <span style=\"color: #00af00; text-decoration-color: #00af00\">2,313</span> │\n",
       "└─────────────────────────────────┴────────────────────────┴───────────────┘\n",
       "</pre>\n"
      ]
     },
     "metadata": {},
     "output_type": "display_data"
    },
    {
     "data": {
      "text/plain": [
       "\u001B[1m Total params: \u001B[0m\u001B[38;5;34m259,689\u001B[0m (1014.41 KB)\n"
      ],
      "text/html": [
       "<pre style=\"white-space:pre;overflow-x:auto;line-height:normal;font-family:Menlo,'DejaVu Sans Mono',consolas,'Courier New',monospace\"><span style=\"font-weight: bold\"> Total params: </span><span style=\"color: #00af00; text-decoration-color: #00af00\">259,689</span> (1014.41 KB)\n",
       "</pre>\n"
      ]
     },
     "metadata": {},
     "output_type": "display_data"
    },
    {
     "data": {
      "text/plain": [
       "\u001B[1m Trainable params: \u001B[0m\u001B[38;5;34m259,689\u001B[0m (1014.41 KB)\n"
      ],
      "text/html": [
       "<pre style=\"white-space:pre;overflow-x:auto;line-height:normal;font-family:Menlo,'DejaVu Sans Mono',consolas,'Courier New',monospace\"><span style=\"font-weight: bold\"> Trainable params: </span><span style=\"color: #00af00; text-decoration-color: #00af00\">259,689</span> (1014.41 KB)\n",
       "</pre>\n"
      ]
     },
     "metadata": {},
     "output_type": "display_data"
    },
    {
     "data": {
      "text/plain": [
       "\u001B[1m Non-trainable params: \u001B[0m\u001B[38;5;34m0\u001B[0m (0.00 B)\n"
      ],
      "text/html": [
       "<pre style=\"white-space:pre;overflow-x:auto;line-height:normal;font-family:Menlo,'DejaVu Sans Mono',consolas,'Courier New',monospace\"><span style=\"font-weight: bold\"> Non-trainable params: </span><span style=\"color: #00af00; text-decoration-color: #00af00\">0</span> (0.00 B)\n",
       "</pre>\n"
      ]
     },
     "metadata": {},
     "output_type": "display_data"
    }
   ],
   "execution_count": 11
  },
  {
   "metadata": {
    "ExecuteTime": {
     "end_time": "2024-06-04T19:17:57.464461Z",
     "start_time": "2024-06-04T18:42:30.045397Z"
    }
   },
   "cell_type": "code",
   "source": [
    "earlystop = tf.keras.callbacks.EarlyStopping(patience = 10,restore_best_weights=True )\n",
    "schedule = tf.keras.optimizers.schedules.ExponentialDecay(initial_learning_rate = 0.002, decay_steps = 1000, decay_rate = 0.7)\n",
    "model.compile(loss = 'categorical_crossentropy', optimizer = tf.keras.optimizers.Adam(learning_rate =schedule), metrics = ['accuracy'])\n",
    "history = model.fit(train_gen, validation_data = val_gen,epochs = 100, callbacks = [earlystop])"
   ],
   "id": "6a95d890ea3509c4",
   "outputs": [
    {
     "name": "stdout",
     "output_type": "stream",
     "text": [
      "Epoch 1/100\n"
     ]
    },
    {
     "name": "stderr",
     "output_type": "stream",
     "text": [
      "C:\\Users\\grish\\PycharmProjects\\FishClassifier\\venv\\Lib\\site-packages\\keras\\src\\trainers\\data_adapters\\py_dataset_adapter.py:121: UserWarning: Your `PyDataset` class should call `super().__init__(**kwargs)` in its constructor. `**kwargs` can include `workers`, `use_multiprocessing`, `max_queue_size`. Do not pass these arguments to `fit()`, as they will be ignored.\n",
      "  self._warn_if_super_not_called()\n"
     ]
    },
    {
     "name": "stdout",
     "output_type": "stream",
     "text": [
      "\u001B[1m203/203\u001B[0m \u001B[32m━━━━━━━━━━━━━━━━━━━━\u001B[0m\u001B[37m\u001B[0m \u001B[1m54s\u001B[0m 254ms/step - accuracy: 0.3466 - loss: 1.7553 - val_accuracy: 0.7597 - val_loss: 0.7616\n",
      "Epoch 2/100\n",
      "\u001B[1m203/203\u001B[0m \u001B[32m━━━━━━━━━━━━━━━━━━━━\u001B[0m\u001B[37m\u001B[0m \u001B[1m50s\u001B[0m 239ms/step - accuracy: 0.6837 - loss: 0.8613 - val_accuracy: 0.8403 - val_loss: 0.4531\n",
      "Epoch 3/100\n",
      "\u001B[1m203/203\u001B[0m \u001B[32m━━━━━━━━━━━━━━━━━━━━\u001B[0m\u001B[37m\u001B[0m \u001B[1m50s\u001B[0m 238ms/step - accuracy: 0.8013 - loss: 0.5561 - val_accuracy: 0.8486 - val_loss: 0.3942\n",
      "Epoch 4/100\n",
      "\u001B[1m203/203\u001B[0m \u001B[32m━━━━━━━━━━━━━━━━━━━━\u001B[0m\u001B[37m\u001B[0m \u001B[1m50s\u001B[0m 238ms/step - accuracy: 0.8251 - loss: 0.5072 - val_accuracy: 0.8931 - val_loss: 0.2768\n",
      "Epoch 5/100\n",
      "\u001B[1m203/203\u001B[0m \u001B[32m━━━━━━━━━━━━━━━━━━━━\u001B[0m\u001B[37m\u001B[0m \u001B[1m51s\u001B[0m 244ms/step - accuracy: 0.8800 - loss: 0.3279 - val_accuracy: 0.9333 - val_loss: 0.1984\n",
      "Epoch 6/100\n",
      "\u001B[1m203/203\u001B[0m \u001B[32m━━━━━━━━━━━━━━━━━━━━\u001B[0m\u001B[37m\u001B[0m \u001B[1m51s\u001B[0m 243ms/step - accuracy: 0.9171 - loss: 0.2313 - val_accuracy: 0.9486 - val_loss: 0.1584\n",
      "Epoch 7/100\n",
      "\u001B[1m203/203\u001B[0m \u001B[32m━━━━━━━━━━━━━━━━━━━━\u001B[0m\u001B[37m\u001B[0m \u001B[1m50s\u001B[0m 242ms/step - accuracy: 0.9265 - loss: 0.2057 - val_accuracy: 0.9569 - val_loss: 0.1304\n",
      "Epoch 8/100\n",
      "\u001B[1m203/203\u001B[0m \u001B[32m━━━━━━━━━━━━━━━━━━━━\u001B[0m\u001B[37m\u001B[0m \u001B[1m49s\u001B[0m 235ms/step - accuracy: 0.9324 - loss: 0.1900 - val_accuracy: 0.9528 - val_loss: 0.1276\n",
      "Epoch 9/100\n",
      "\u001B[1m203/203\u001B[0m \u001B[32m━━━━━━━━━━━━━━━━━━━━\u001B[0m\u001B[37m\u001B[0m \u001B[1m49s\u001B[0m 236ms/step - accuracy: 0.9484 - loss: 0.1476 - val_accuracy: 0.8833 - val_loss: 0.2987\n",
      "Epoch 10/100\n",
      "\u001B[1m203/203\u001B[0m \u001B[32m━━━━━━━━━━━━━━━━━━━━\u001B[0m\u001B[37m\u001B[0m \u001B[1m50s\u001B[0m 241ms/step - accuracy: 0.9472 - loss: 0.1503 - val_accuracy: 0.9694 - val_loss: 0.1049\n",
      "Epoch 11/100\n",
      "\u001B[1m203/203\u001B[0m \u001B[32m━━━━━━━━━━━━━━━━━━━━\u001B[0m\u001B[37m\u001B[0m \u001B[1m51s\u001B[0m 245ms/step - accuracy: 0.9609 - loss: 0.1074 - val_accuracy: 0.9806 - val_loss: 0.0771\n",
      "Epoch 12/100\n",
      "\u001B[1m203/203\u001B[0m \u001B[32m━━━━━━━━━━━━━━━━━━━━\u001B[0m\u001B[37m\u001B[0m \u001B[1m50s\u001B[0m 238ms/step - accuracy: 0.9636 - loss: 0.1028 - val_accuracy: 0.9750 - val_loss: 0.0660\n",
      "Epoch 13/100\n",
      "\u001B[1m203/203\u001B[0m \u001B[32m━━━━━━━━━━━━━━━━━━━━\u001B[0m\u001B[37m\u001B[0m \u001B[1m51s\u001B[0m 244ms/step - accuracy: 0.9677 - loss: 0.0861 - val_accuracy: 0.9764 - val_loss: 0.0609\n",
      "Epoch 14/100\n",
      "\u001B[1m203/203\u001B[0m \u001B[32m━━━━━━━━━━━━━━━━━━━━\u001B[0m\u001B[37m\u001B[0m \u001B[1m49s\u001B[0m 236ms/step - accuracy: 0.9675 - loss: 0.0921 - val_accuracy: 0.9847 - val_loss: 0.0453\n",
      "Epoch 15/100\n",
      "\u001B[1m203/203\u001B[0m \u001B[32m━━━━━━━━━━━━━━━━━━━━\u001B[0m\u001B[37m\u001B[0m \u001B[1m48s\u001B[0m 232ms/step - accuracy: 0.9803 - loss: 0.0580 - val_accuracy: 0.9847 - val_loss: 0.0375\n",
      "Epoch 16/100\n",
      "\u001B[1m203/203\u001B[0m \u001B[32m━━━━━━━━━━━━━━━━━━━━\u001B[0m\u001B[37m\u001B[0m \u001B[1m49s\u001B[0m 234ms/step - accuracy: 0.9837 - loss: 0.0486 - val_accuracy: 0.9903 - val_loss: 0.0337\n",
      "Epoch 17/100\n",
      "\u001B[1m203/203\u001B[0m \u001B[32m━━━━━━━━━━━━━━━━━━━━\u001B[0m\u001B[37m\u001B[0m \u001B[1m50s\u001B[0m 239ms/step - accuracy: 0.9765 - loss: 0.0689 - val_accuracy: 0.9736 - val_loss: 0.0608\n",
      "Epoch 18/100\n",
      "\u001B[1m203/203\u001B[0m \u001B[32m━━━━━━━━━━━━━━━━━━━━\u001B[0m\u001B[37m\u001B[0m \u001B[1m49s\u001B[0m 235ms/step - accuracy: 0.9789 - loss: 0.0577 - val_accuracy: 0.9875 - val_loss: 0.0402\n",
      "Epoch 19/100\n",
      "\u001B[1m203/203\u001B[0m \u001B[32m━━━━━━━━━━━━━━━━━━━━\u001B[0m\u001B[37m\u001B[0m \u001B[1m49s\u001B[0m 232ms/step - accuracy: 0.9873 - loss: 0.0370 - val_accuracy: 0.9917 - val_loss: 0.0250\n",
      "Epoch 20/100\n",
      "\u001B[1m203/203\u001B[0m \u001B[32m━━━━━━━━━━━━━━━━━━━━\u001B[0m\u001B[37m\u001B[0m \u001B[1m48s\u001B[0m 232ms/step - accuracy: 0.9859 - loss: 0.0406 - val_accuracy: 0.9875 - val_loss: 0.0362\n",
      "Epoch 21/100\n",
      "\u001B[1m203/203\u001B[0m \u001B[32m━━━━━━━━━━━━━━━━━━━━\u001B[0m\u001B[37m\u001B[0m \u001B[1m51s\u001B[0m 245ms/step - accuracy: 0.9855 - loss: 0.0435 - val_accuracy: 0.9903 - val_loss: 0.0259\n",
      "Epoch 22/100\n",
      "\u001B[1m203/203\u001B[0m \u001B[32m━━━━━━━━━━━━━━━━━━━━\u001B[0m\u001B[37m\u001B[0m \u001B[1m50s\u001B[0m 241ms/step - accuracy: 0.9886 - loss: 0.0348 - val_accuracy: 0.9875 - val_loss: 0.0362\n",
      "Epoch 23/100\n",
      "\u001B[1m203/203\u001B[0m \u001B[32m━━━━━━━━━━━━━━━━━━━━\u001B[0m\u001B[37m\u001B[0m \u001B[1m49s\u001B[0m 234ms/step - accuracy: 0.9917 - loss: 0.0215 - val_accuracy: 0.9889 - val_loss: 0.0353\n",
      "Epoch 24/100\n",
      "\u001B[1m203/203\u001B[0m \u001B[32m━━━━━━━━━━━━━━━━━━━━\u001B[0m\u001B[37m\u001B[0m \u001B[1m49s\u001B[0m 236ms/step - accuracy: 0.9907 - loss: 0.0303 - val_accuracy: 0.9819 - val_loss: 0.0448\n",
      "Epoch 25/100\n",
      "\u001B[1m203/203\u001B[0m \u001B[32m━━━━━━━━━━━━━━━━━━━━\u001B[0m\u001B[37m\u001B[0m \u001B[1m49s\u001B[0m 234ms/step - accuracy: 0.9919 - loss: 0.0248 - val_accuracy: 0.9875 - val_loss: 0.0568\n",
      "Epoch 26/100\n",
      "\u001B[1m203/203\u001B[0m \u001B[32m━━━━━━━━━━━━━━━━━━━━\u001B[0m\u001B[37m\u001B[0m \u001B[1m52s\u001B[0m 248ms/step - accuracy: 0.9914 - loss: 0.0285 - val_accuracy: 0.9847 - val_loss: 0.0487\n",
      "Epoch 27/100\n",
      "\u001B[1m203/203\u001B[0m \u001B[32m━━━━━━━━━━━━━━━━━━━━\u001B[0m\u001B[37m\u001B[0m \u001B[1m51s\u001B[0m 244ms/step - accuracy: 0.9865 - loss: 0.0332 - val_accuracy: 0.9889 - val_loss: 0.0241\n",
      "Epoch 28/100\n",
      "\u001B[1m203/203\u001B[0m \u001B[32m━━━━━━━━━━━━━━━━━━━━\u001B[0m\u001B[37m\u001B[0m \u001B[1m50s\u001B[0m 239ms/step - accuracy: 0.9932 - loss: 0.0188 - val_accuracy: 0.9819 - val_loss: 0.0429\n",
      "Epoch 29/100\n",
      "\u001B[1m203/203\u001B[0m \u001B[32m━━━━━━━━━━━━━━━━━━━━\u001B[0m\u001B[37m\u001B[0m \u001B[1m50s\u001B[0m 240ms/step - accuracy: 0.9914 - loss: 0.0246 - val_accuracy: 0.9903 - val_loss: 0.0242\n",
      "Epoch 30/100\n",
      "\u001B[1m203/203\u001B[0m \u001B[32m━━━━━━━━━━━━━━━━━━━━\u001B[0m\u001B[37m\u001B[0m \u001B[1m50s\u001B[0m 238ms/step - accuracy: 0.9953 - loss: 0.0144 - val_accuracy: 0.9903 - val_loss: 0.0266\n",
      "Epoch 31/100\n",
      "\u001B[1m203/203\u001B[0m \u001B[32m━━━━━━━━━━━━━━━━━━━━\u001B[0m\u001B[37m\u001B[0m \u001B[1m50s\u001B[0m 238ms/step - accuracy: 0.9935 - loss: 0.0211 - val_accuracy: 0.9889 - val_loss: 0.0211\n",
      "Epoch 32/100\n",
      "\u001B[1m203/203\u001B[0m \u001B[32m━━━━━━━━━━━━━━━━━━━━\u001B[0m\u001B[37m\u001B[0m \u001B[1m50s\u001B[0m 238ms/step - accuracy: 0.9931 - loss: 0.0194 - val_accuracy: 0.9917 - val_loss: 0.0200\n",
      "Epoch 33/100\n",
      "\u001B[1m203/203\u001B[0m \u001B[32m━━━━━━━━━━━━━━━━━━━━\u001B[0m\u001B[37m\u001B[0m \u001B[1m50s\u001B[0m 240ms/step - accuracy: 0.9937 - loss: 0.0177 - val_accuracy: 0.9903 - val_loss: 0.0251\n",
      "Epoch 34/100\n",
      "\u001B[1m203/203\u001B[0m \u001B[32m━━━━━━━━━━━━━━━━━━━━\u001B[0m\u001B[37m\u001B[0m \u001B[1m49s\u001B[0m 235ms/step - accuracy: 0.9960 - loss: 0.0172 - val_accuracy: 0.9889 - val_loss: 0.0263\n",
      "Epoch 35/100\n",
      "\u001B[1m203/203\u001B[0m \u001B[32m━━━━━━━━━━━━━━━━━━━━\u001B[0m\u001B[37m\u001B[0m \u001B[1m49s\u001B[0m 235ms/step - accuracy: 0.9931 - loss: 0.0146 - val_accuracy: 0.9917 - val_loss: 0.0252\n",
      "Epoch 36/100\n",
      "\u001B[1m203/203\u001B[0m \u001B[32m━━━━━━━━━━━━━━━━━━━━\u001B[0m\u001B[37m\u001B[0m \u001B[1m50s\u001B[0m 239ms/step - accuracy: 0.9959 - loss: 0.0126 - val_accuracy: 0.9917 - val_loss: 0.0241\n",
      "Epoch 37/100\n",
      "\u001B[1m203/203\u001B[0m \u001B[32m━━━━━━━━━━━━━━━━━━━━\u001B[0m\u001B[37m\u001B[0m \u001B[1m68s\u001B[0m 330ms/step - accuracy: 0.9934 - loss: 0.0201 - val_accuracy: 0.9889 - val_loss: 0.0240\n",
      "Epoch 38/100\n",
      "\u001B[1m203/203\u001B[0m \u001B[32m━━━━━━━━━━━━━━━━━━━━\u001B[0m\u001B[37m\u001B[0m \u001B[1m62s\u001B[0m 298ms/step - accuracy: 0.9970 - loss: 0.0108 - val_accuracy: 0.9889 - val_loss: 0.0278\n",
      "Epoch 39/100\n",
      "\u001B[1m203/203\u001B[0m \u001B[32m━━━━━━━━━━━━━━━━━━━━\u001B[0m\u001B[37m\u001B[0m \u001B[1m50s\u001B[0m 242ms/step - accuracy: 0.9963 - loss: 0.0116 - val_accuracy: 0.9917 - val_loss: 0.0226\n",
      "Epoch 40/100\n",
      "\u001B[1m203/203\u001B[0m \u001B[32m━━━━━━━━━━━━━━━━━━━━\u001B[0m\u001B[37m\u001B[0m \u001B[1m50s\u001B[0m 241ms/step - accuracy: 0.9958 - loss: 0.0133 - val_accuracy: 0.9917 - val_loss: 0.0267\n",
      "Epoch 41/100\n",
      "\u001B[1m203/203\u001B[0m \u001B[32m━━━━━━━━━━━━━━━━━━━━\u001B[0m\u001B[37m\u001B[0m \u001B[1m50s\u001B[0m 239ms/step - accuracy: 0.9975 - loss: 0.0088 - val_accuracy: 0.9931 - val_loss: 0.0201\n",
      "Epoch 42/100\n",
      "\u001B[1m203/203\u001B[0m \u001B[32m━━━━━━━━━━━━━━━━━━━━\u001B[0m\u001B[37m\u001B[0m \u001B[1m50s\u001B[0m 240ms/step - accuracy: 0.9962 - loss: 0.0098 - val_accuracy: 0.9958 - val_loss: 0.0206\n"
     ]
    }
   ],
   "execution_count": 12
  },
  {
   "metadata": {
    "ExecuteTime": {
     "end_time": "2024-06-04T19:18:19.363575Z",
     "start_time": "2024-06-04T19:18:19.236014Z"
    }
   },
   "cell_type": "code",
   "source": [
    "pd.DataFrame(history.history)[['accuracy','val_accuracy']].plot()\n",
    "plt.title(\"Accuracy\")\n",
    "plt.show()"
   ],
   "id": "f6b849333fb87a68",
   "outputs": [
    {
     "data": {
      "text/plain": [
       "<Figure size 640x480 with 1 Axes>"
      ],
      "image/png": "[encoded data removed]"
     },
     "metadata": {},
     "output_type": "display_data"
    }
   ],
   "execution_count": 14
  },
  {
   "metadata": {
    "ExecuteTime": {
     "end_time": "2024-06-04T19:18:22.373695Z",
     "start_time": "2024-06-04T19:18:22.270576Z"
    }
   },
   "cell_type": "code",
   "source": [
    "pd.DataFrame(history.history)[['loss','val_loss']].plot()\n",
    "plt.title(\"Loss\")\n",
    "plt.show()"
   ],
   "id": "d8076564e444ff34",
   "outputs": [
    {
     "data": {
      "text/plain": [
       "<Figure size 640x480 with 1 Axes>"
      ],
      "image/png": "[encoded data removed]"
     },
     "metadata": {},
     "output_type": "display_data"
    }
   ],
   "execution_count": 15
  },
  {
   "metadata": {
    "ExecuteTime": {
     "end_time": "2024-06-04T19:18:24.826881Z",
     "start_time": "2024-06-04T19:18:24.782495Z"
    }
   },
   "cell_type": "code",
   "source": "model.save(\"my_model_better.keras\")",
   "id": "ad385b8951d0fc87",
   "outputs": [],
   "execution_count": 16
  },
  {
   "metadata": {
    "ExecuteTime": {
     "end_time": "2024-06-04T19:18:47.414151Z",
     "start_time": "2024-06-04T19:18:28.288233Z"
    }
   },
   "cell_type": "code",
   "source": [
    "results = model.evaluate(test_gen, verbose=0)\n",
    "\n",
    "print(\"    Test Loss: {:.5f}\".format(results[0]))\n",
    "print(\"Test Accuracy: {:.2f}%\".format(results[1] * 100))"
   ],
   "id": "8e8b6f080617ebf",
   "outputs": [
    {
     "name": "stderr",
     "output_type": "stream",
     "text": [
      "C:\\Users\\grish\\PycharmProjects\\FishClassifier\\venv\\Lib\\site-packages\\keras\\src\\trainers\\data_adapters\\py_dataset_adapter.py:121: UserWarning: Your `PyDataset` class should call `super().__init__(**kwargs)` in its constructor. `**kwargs` can include `workers`, `use_multiprocessing`, `max_queue_size`. Do not pass these arguments to `fit()`, as they will be ignored.\n",
      "  self._warn_if_super_not_called()\n"
     ]
    },
    {
     "name": "stdout",
     "output_type": "stream",
     "text": [
      "    Test Loss: 0.01976\n",
      "Test Accuracy: 99.39%\n"
     ]
    }
   ],
   "execution_count": 17
  },
  {
   "metadata": {},
   "cell_type": "code",
   "outputs": [],
   "execution_count": null,
   "source": "",
   "id": "b3de8a1d0eef31c3"
  }
 ],
 "metadata": {
  "kernelspec": {
   "display_name": "myenv",
   "language": "python",
   "name": "myenv"
  },
  "language_info": {
   "codemirror_mode": {
    "name": "ipython",
    "version": 2
   },
   "file_extension": ".py",
   "mimetype": "text/x-python",
   "name": "python",
   "nbconvert_exporter": "python",
   "pygments_lexer": "ipython2",
   "version": "2.7.6"
  }
 },
 "nbformat": 4,
 "nbformat_minor": 5
}
